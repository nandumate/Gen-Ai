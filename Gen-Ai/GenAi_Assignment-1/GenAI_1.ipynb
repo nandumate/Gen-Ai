{
  "nbformat": 4,
  "nbformat_minor": 0,
  "metadata": {
    "colab": {
      "provenance": []
    },
    "kernelspec": {
      "name": "python3",
      "display_name": "Python 3"
    },
    "language_info": {
      "name": "python"
    }
  },
  "cells": [
    {
      "cell_type": "markdown",
      "source": [
        "**Assignment No.1: Build a simple text generator using Markov Chains**"
      ],
      "metadata": {
        "id": "K-U9ofTKSMv3"
      }
    },
    {
      "cell_type": "markdown",
      "source": [
        "**Steps :-**\n",
        "1.Import Libraries – Load necessary Python modules.\n",
        "\n",
        "2.Download Novel – Fetch Pride and Prejudice from Project Gutenberg.\n",
        "\n",
        "3.Read & Extract Content – Remove unnecessary headers and keep the main text.\n",
        "\n",
        "4.Clean & Tokenize – Convert text to lowercase, remove punctuation, and split into words.\n",
        "\n",
        "5.Build Markov Model – Create a dictionary of word sequences with transition probabilities.\n",
        "\n",
        "6.Generate Story – Predict words based on probabilities and form a random text sequence.\n",
        "\n",
        "7.Display Output – Print the generated story.\n",
        "\n",
        "\n",
        "\n",
        "\n",
        "\n",
        "\n"
      ],
      "metadata": {
        "id": "hEF1m4AYMWjV"
      }
    },
    {
      "cell_type": "code",
      "source": [
        "import numpy as np\n",
        "import pandas as pd\n",
        "import os\n",
        "import re\n",
        "import string\n",
        "import requests\n",
        "import random\n",
        "\n",
        "# URL of the text file\n",
        "url = \"http://www.gutenberg.org/files/1342/1342-0.txt\"\n",
        "\n",
        "# Download the file\n",
        "response = requests.get(url)\n",
        "if response.status_code == 200:\n",
        "    with open(\"pride_and_prejudice.txt\", \"w\", encoding=\"utf-8\") as f:\n",
        "        f.write(response.text)\n",
        "\n",
        "# Function to read the novel\n",
        "def read_novel(novel_path):\n",
        "    with open(novel_path, 'r', encoding='utf-8') as f:\n",
        "        text = f.read()\n",
        "\n",
        "    # Removing Gutenberg header/footer\n",
        "    start_idx = text.find(\"CHAPTER 1\")\n",
        "    end_idx = text.find(\"THE END\")\n",
        "    if start_idx != -1 and end_idx != -1:\n",
        "        text = text[start_idx:end_idx]\n",
        "\n",
        "    return text\n",
        "\n",
        "# Read and clean novel\n",
        "novel_text = read_novel(\"pride_and_prejudice.txt\")\n",
        "\n",
        "# Function to clean and tokenize text\n",
        "def clean_and_tokenize(text):\n",
        "    text = text.lower()\n",
        "    text = re.sub(r'[^a-z\\s]', '', text)  # Remove punctuation\n",
        "    words = text.split()  # Tokenize text\n",
        "    return words\n",
        "\n",
        "# Tokenizing the cleaned text\n",
        "cleaned_text = clean_and_tokenize(novel_text)\n",
        "print(\"Number of words =\", len(cleaned_text))\n",
        "\n",
        "# Function to create a Markov model\n",
        "def make_markov_model(cleaned_text, n_gram=2):\n",
        "    markov_model = {}\n",
        "\n",
        "    for i in range(len(cleaned_text) - n_gram):\n",
        "        curr_state = ' '.join(cleaned_text[i:i+n_gram])\n",
        "        next_state = cleaned_text[i+n_gram]\n",
        "\n",
        "        if curr_state not in markov_model:\n",
        "            markov_model[curr_state] = {}\n",
        "\n",
        "        if next_state in markov_model[curr_state]:\n",
        "            markov_model[curr_state][next_state] += 1\n",
        "        else:\n",
        "            markov_model[curr_state][next_state] = 1\n",
        "\n",
        "    # Convert counts to probabilities\n",
        "    for curr_state, transitions in markov_model.items():\n",
        "        total = sum(transitions.values())\n",
        "        for state in transitions:\n",
        "            markov_model[curr_state][state] /= total\n",
        "\n",
        "    return markov_model\n",
        "\n",
        "# Create Markov model\n",
        "pp_markov_model = make_markov_model(cleaned_text)\n",
        "\n",
        "# Function to generate text\n",
        "def generate_story(markov_model, limit=100, start=None):\n",
        "    if start is None or start not in markov_model:\n",
        "        start = random.choice(list(markov_model.keys()))\n",
        "\n",
        "    story = [start]\n",
        "    curr_state = start\n",
        "\n",
        "    for _ in range(limit):\n",
        "        if curr_state not in markov_model:\n",
        "            break\n",
        "        next_word = random.choices(list(markov_model[curr_state].keys()),\n",
        "                                   list(markov_model[curr_state].values()))[0]\n",
        "        story.append(next_word)\n",
        "        curr_state = ' '.join(curr_state.split()[1:] + [next_word])  # Move window\n",
        "\n",
        "    return ' '.join(story)\n",
        "\n",
        "# Generate a story\n",
        "generated_story = generate_story(pp_markov_model, limit=100)\n",
        "print(\"Generated Story:\\n\", generated_story)\n"
      ],
      "metadata": {
        "colab": {
          "base_uri": "https://localhost:8080/"
        },
        "id": "ng93QXSaKWII",
        "outputId": "4cc20ea4-7e43-4776-8a3f-cb8caea75764"
      },
      "execution_count": null,
      "outputs": [
        {
          "output_type": "stream",
          "name": "stdout",
          "text": [
            "Number of words = 127172\n",
            "Generated Story:\n",
            " more for congratulations elizabeth will soon be gone in five minutes after his return as jane had no reason he may spend very little one cannot wonder at her on sunday night and on these occasions mrs gardiner to whom i have not time for speech they ran into the village balls will be a person whom i have by education and who knows what may be aware that ours is not a bit better than lydia you go by the way of disappointing him will be very soon settle it in our estimation you will give such pleasure to elizabeth and\n"
          ]
        }
      ]
    }
  ]
}